{
 "cells": [
  {
   "cell_type": "markdown",
   "metadata": {},
   "source": [
    "# **Basic Python**\n",
    "\n",
    "### **I have written comments in the code to explain what each part does.**"
   ]
  },
  {
   "cell_type": "markdown",
   "metadata": {},
   "source": [
    "## 1.a \n",
    "Give a function F that takes a single argument n. This function should print a sequence of n strings as described in the examples below: <br>\n",
    "Ex: **n = 3**\n",
    "\n",
    "--A--<br>\n",
    "-BAB-<br>\n",
    "CBABC<br>\n",
    "\n",
    "**n = 4**\n",
    "\n",
    "---A---<br>\n",
    "--BAB--<br>\n",
    "-CBABC-<br>\n",
    "DCBABCD"
   ]
  },
  {
   "cell_type": "code",
   "execution_count": 1,
   "metadata": {},
   "outputs": [
    {
     "name": "stdout",
     "output_type": "stream",
     "text": [
      "---------A---------\n",
      "--------BAB--------\n",
      "-------CBABC-------\n",
      "------DCBABCD------\n",
      "-----EDCBABCDE-----\n",
      "----FEDCBABCDEF----\n",
      "---GFEDCBABCDEFG---\n",
      "--HGFEDCBABCDEFGH--\n",
      "-IHGFEDCBABCDEFGHI-\n",
      "JIHGFEDCBABCDEFGHIJ\n",
      "-----A-----\n",
      "----BAB----\n",
      "---CBABC---\n",
      "--DCBABCD--\n",
      "-EDCBABCDE-\n",
      "FEDCBABCDEF\n"
     ]
    }
   ],
   "source": [
    "def F(n):\n",
    "    for i in range(n):\n",
    "        sequence = \"\"\n",
    "        for k in range(2 * i + 1):\n",
    "            sequence += chr(65 + abs(k - i))       #65 is the ASCII value of 'A'\n",
    "        print('-' * (n - i - 1) + sequence + '-' * (n - i - 1))   #This will create given patteren \n",
    "\n",
    "F(10)\n",
    "F(6)"
   ]
  },
  {
   "cell_type": "markdown",
   "metadata": {},
   "source": [
    "## 1.b\n",
    "Make a function F that takes only one argument, a dictionary(dict) d.\n",
    "The keys of d are integers and the values of d are a tuple of type (x (int), y (int)).\n",
    "You must print out the dict in the format \"-key-, -x-, -y-\" with each entry in a new line. Print it for each of the three sorted orders, by key values ascending, by x values descending, by y values ascending."
   ]
  },
  {
   "cell_type": "code",
   "execution_count": 2,
   "metadata": {},
   "outputs": [
    {
     "name": "stdout",
     "output_type": "stream",
     "text": [
      "Sorted by key (ascending):\n",
      "1, 1, 2\n",
      "2, -1, 4\n",
      "4, 2, 3\n",
      "5, -4, 3\n",
      "\n",
      "Sorted by x (descending):\n",
      "4, 2, 3\n",
      "1, 1, 2\n",
      "2, -1, 4\n",
      "5, -4, 3\n",
      "\n",
      "Sorted by y (ascending):\n",
      "1, 1, 2\n",
      "5, -4, 3\n",
      "4, 2, 3\n",
      "2, -1, 4\n",
      "\n",
      "Sorted by key (ascending):\n",
      "-8, 4, 2\n",
      "5, 9, -10\n",
      "6, -3, 4\n",
      "7, 2, 1\n",
      "\n",
      "Sorted by x (descending):\n",
      "5, 9, -10\n",
      "-8, 4, 2\n",
      "7, 2, 1\n",
      "6, -3, 4\n",
      "\n",
      "Sorted by y (ascending):\n",
      "5, 9, -10\n",
      "7, 2, 1\n",
      "-8, 4, 2\n",
      "6, -3, 4\n"
     ]
    }
   ],
   "source": [
    "def F(d):\n",
    "    print(\"Sorted by key (ascending):\")  \n",
    "    for key in sorted(d):      \n",
    "        \n",
    "        print(f\"{key}, {d[key][0]}, {d[key][1]}\")  \n",
    "\n",
    "    print(\"\\nSorted by x (descending):\")\n",
    "    for key, (x, y) in sorted(d.items(), key=lambda item: item[1][0], reverse=True):\n",
    "        print(f\"{key}, {x}, {y}\")   \n",
    "\n",
    "    print(\"\\nSorted by y (ascending):\")\n",
    "    for key, (x, y) in sorted(d.items(), key=lambda item: item[1][1]):      \n",
    "        print(f\"{key}, {x}, {y}\")\n",
    "F({1 : (1, 2), 2 : (-1, 4), 5 : (-4, 3), 4 : (2, 3)})\n",
    "print()\n",
    "F({-8 : (4, 2), 6 : (-3, 4), 7 : (2, 1), 5 : (9, -10)})"
   ]
  },
  {
   "cell_type": "markdown",
   "metadata": {},
   "source": [
    "## 2 Working with Student Records\n",
    "\n",
    "Use the data in **student_records.csv** to complete the given tasks. Do not include any external libraries. Use a Python dictionary if required.\n",
    "\n",
    "### Reference\n",
    "- [Python Dictionaries](https://www.w3schools.com/python/python_dictionaries.asp)\n"
   ]
  },
  {
   "cell_type": "markdown",
   "metadata": {},
   "source": [
    "#### 2.a: open the student_records.csv file and print out the first 10 rows"
   ]
  },
  {
   "cell_type": "code",
   "execution_count": 3,
   "metadata": {},
   "outputs": [
    {
     "name": "stdout",
     "output_type": "stream",
     "text": [
      "   roll_number department  credit course_name      course_type grade\n",
      "0       588946         MA       3       EC250  hasmed_elective    AB\n",
      "1       145372         EP       4       EP407  hasmed_elective    CC\n",
      "2       834515         MA       8       EP885  hasmed_elective    BB\n",
      "3       344265        CSE       6      CSE699          honours    AB\n",
      "4       358405         MA       3       EE460            minor    AP\n",
      "5       781075         CE       8       CE540          honours    CC\n",
      "6       180828        CSE       6       CE880            minor    AB\n",
      "7       981238         MM       4      CSE226            minor    AB\n",
      "8       836881         MM       8       MM530             core    AA\n",
      "9       310604         EE       8       EE202             core    AB\n"
     ]
    }
   ],
   "source": [
    "import pandas as pd\n",
    "# Read the CSV file into a DataFrame\n",
    "df = pd.read_csv('/Users/manish/Data Visualisation/Markdown/student_records-2.csv')     #This is the current address of that file\n",
    "\n",
    "# Print the first 10 rows\n",
    "print(df.head(10))"
   ]
  },
  {
   "cell_type": "markdown",
   "metadata": {},
   "source": [
    "#### 2.b: Print out the total credits and calculte CPI of each student. \n",
    "CPI is the weighted average of core courses, and electives (weights being the letter grades converted to number AP,AA=10, AB=9, BB=8, BC=7, CC=6)"
   ]
  },
  {
   "cell_type": "code",
   "execution_count": 4,
   "metadata": {},
   "outputs": [
    {
     "name": "stdout",
     "output_type": "stream",
     "text": [
      "    roll_number  totalcredit  totalscore       cpi\n",
      "0        124663           59         498  8.440678\n",
      "1        138296           28         227  8.107143\n",
      "2        143142           70         596  8.514286\n",
      "3        143856           70         609  8.700000\n",
      "4        144528           56         481  8.589286\n",
      "..          ...          ...         ...       ...\n",
      "95       981238           93         784  8.430108\n",
      "96       986057           56         438  7.821429\n",
      "97       993835           27         238  8.814815\n",
      "98       995208           49         385  7.857143\n",
      "99       998293           64         571  8.921875\n",
      "\n",
      "[100 rows x 4 columns]\n"
     ]
    },
    {
     "name": "stderr",
     "output_type": "stream",
     "text": [
      "/var/folders/wq/qy2mxf5n0xz3xq9pw609dfgw0000gp/T/ipykernel_45743/2121589077.py:10: SettingWithCopyWarning: \n",
      "A value is trying to be set on a copy of a slice from a DataFrame.\n",
      "Try using .loc[row_indexer,col_indexer] = value instead\n",
      "\n",
      "See the caveats in the documentation: https://pandas.pydata.org/pandas-docs/stable/user_guide/indexing.html#returning-a-view-versus-a-copy\n",
      "  df_filtered['ws'] = df_filtered['credit'] * df_filtered['gn']\n"
     ]
    }
   ],
   "source": [
    "import pandas as pd\n",
    "df = pd.read_csv('/Users/manish/Data Visualisation/Markdown/student_records-2.csv')\n",
    "\n",
    "g = {'AP': 10, 'AA': 10, 'AB': 9, 'BB': 8, 'BC': 7, 'CC': 6}\n",
    "df['gn'] = df['grade'].map(g)\n",
    "\n",
    "course = ['core', 'hasmed_elective']\n",
    "\n",
    "df_filtered = df[df['course_type'].isin(course)]\n",
    "df_filtered['ws'] = df_filtered['credit'] * df_filtered['gn']\n",
    "\n",
    "New_df = df_filtered.groupby('roll_number').agg(totalcredit=('credit', 'sum'), totalscore=('ws', 'sum'))\n",
    "New_df['cpi'] = New_df['totalscore'] / New_df['totalcredit']\n",
    "New_df.reset_index(inplace=True)\n",
    "print(New_df)"
   ]
  },
  {
   "cell_type": "markdown",
   "metadata": {},
   "source": [
    "#### 2.c: Print out the names of all students who meet the graduation requirements \n",
    "Atleast 20 credist of core course, 15 credits of department elective, 10 credits of flexible elective and 5 credits of hasmed electives"
   ]
  },
  {
   "cell_type": "code",
   "execution_count": 5,
   "metadata": {},
   "outputs": [
    {
     "name": "stdout",
     "output_type": "stream",
     "text": [
      "Students meeting graduation requirements:\n",
      "[124663, 143142, 143856, 144528, 150503, 159438, 180828, 203200, 207443, 214270, 265922, 282482, 283796, 294697, 310604, 327122, 362471, 379479, 381227, 388969, 391848, 461971, 482623, 485484, 488661, 500658, 517837, 521087, 534763, 571782, 572815, 581065, 581858, 588946, 608522, 608952, 626000, 628849, 630568, 681499, 692318, 703403, 716985, 721490, 750259, 773982, 781075, 782129, 787967, 810863, 834515, 836881, 845623, 871746, 879634, 881983, 888886, 928288, 955757, 960395, 970791, 971123, 973158, 981238, 986057, 998293]\n"
     ]
    }
   ],
   "source": [
    "import pandas as pd\n",
    "data = pd.read_csv('/Users/manish/Data Visualisation/Markdown/student_records-2.csv')\n",
    "req = {'core': 20, 'department_elective': 15, 'flexible_elective': 10, 'hasmed_elective': 5}\n",
    "credits = data.groupby(['roll_number', 'course_type'])['credit'].sum().unstack(fill_value=0)\n",
    "qualified = credits[\n",
    "    (credits.get('core', 0) >= req['core']) &\n",
    "    (credits.get('department_elective', 0) >= req['department_elective']) &\n",
    "    (credits.get('flexible_elective', 0) >= req['flexible_elective']) &\n",
    "    (credits.get('hasmed_elective', 0) >= req['hasmed_elective'])\n",
    "]\n",
    "print(\"Students meeting graduation requirements:\")\n",
    "print(qualified.index.tolist())"
   ]
  },
  {
   "cell_type": "markdown",
   "metadata": {},
   "source": [
    "#### 2.d: Print out the names of all students who completed a minor \n",
    "Atleast 10 credits with minor tag in a specific department"
   ]
  },
  {
   "cell_type": "code",
   "execution_count": 6,
   "metadata": {},
   "outputs": [
    {
     "name": "stdout",
     "output_type": "stream",
     "text": [
      "    roll_number department  credit\n",
      "0        124663         EE      37\n",
      "1        138296         MM      29\n",
      "2        143142        CSE      30\n",
      "3        143856         CE      35\n",
      "4        144528         ME      23\n",
      "..          ...        ...     ...\n",
      "95       981238         MM      22\n",
      "96       986057         ME      13\n",
      "97       993835         CE      34\n",
      "98       995208         ME      24\n",
      "99       998293         ME      12\n",
      "\n",
      "[96 rows x 3 columns]\n"
     ]
    }
   ],
   "source": [
    "#TODO\n",
    "\n",
    "import pandas as pd\n",
    "data_frame = pd.read_csv('/Users/manish/Data Visualisation/Markdown/student_records-2.csv')\n",
    "\n",
    "minor_courses = data_frame[data_frame['course_type'] == 'minor']\n",
    "\n",
    "minor_credits = minor_courses.groupby(['roll_number', 'department'])['credit'].sum().reset_index()\n",
    "\n",
    "# Filter students who have completed at least 10 credits in a minor\n",
    "students_with_minor = minor_credits[minor_credits['credit'] >= 10]\n",
    "\n",
    "print(students_with_minor)\n"
   ]
  },
  {
   "cell_type": "markdown",
   "metadata": {},
   "source": [
    "#### 2.e: Print out the names of all students who completed a honours\n",
    "Atleast 10 credits with honours tag and 20 core credits"
   ]
  },
  {
   "cell_type": "code",
   "execution_count": 7,
   "metadata": {},
   "outputs": [
    {
     "name": "stdout",
     "output_type": "stream",
     "text": [
      "Students who completed honors:\n",
      "Empty DataFrame\n",
      "Columns: [roll_number, honors_credits, core_credits]\n",
      "Index: []\n"
     ]
    }
   ],
   "source": [
    "import pandas as pd\n",
    "\n",
    "\n",
    "honors = data_frame[data_frame['course_type'] == 'honors']\n",
    "core= data_frame[data_frame['course_type'] == 'core']\n",
    "\n",
    "\n",
    "honors_credits = honors.groupby('roll_number')['credit'].sum()\n",
    "core_credits = core.groupby('roll_number')['credit'].sum()\n",
    "\n",
    "\n",
    "credits = pd.DataFrame({'honors_credits': honors_credits, 'core_credits': core_credits})\n",
    "\n",
    "\n",
    "students_with_honors = credits[(credits['honors_credits'] >= 10) &(credits['core_credits'] >= 20)]\n",
    "\n",
    "# Displaying  the roll numbers of students who meet the criteria\n",
    "print(\"Students who completed honors:\")\n",
    "print(students_with_honors.reset_index())\n"
   ]
  },
  {
   "cell_type": "markdown",
   "metadata": {},
   "source": [
    "# **SciPy** "
   ]
  },
  {
   "cell_type": "markdown",
   "metadata": {},
   "source": [
    "## Part A\n",
    "Minimize the function $f(x, y) = 2(x - y - 3)^2 + 4(x + 2y + 1)^4$.<br>\n",
    "With the constraints : $ x - y \\ge -3, (x + 2)^2 + (y + 1)^2 \\le 5$ <br>\n",
    "Using scipy.optimize.minimize with constraints. (Hint: Look at the examples in the official documentation)"
   ]
  },
  {
   "cell_type": "code",
   "execution_count": 8,
   "metadata": {},
   "outputs": [
    {
     "name": "stdout",
     "output_type": "stream",
     "text": [
      "Points at which fuc. is min: [ 0.23492503 -0.92851489]\n",
      "function min value: 7.345026216977382\n"
     ]
    }
   ],
   "source": [
    "#TODO\n",
    "\n",
    "from scipy.optimize import minimize\n",
    "\n",
    "def f(xy):\n",
    "    x, y = xy\n",
    "    return 2*(x - y - 3)**2 + 4*(x + 2*y + 1)**4\n",
    "\n",
    "def constraint1(xy):\n",
    "    x, y = xy\n",
    "    return x - y + 3\n",
    "\n",
    "def constraint2(xy):\n",
    "    x, y = xy\n",
    "    return 5 - (x + 2)**2 - (y + 1)**2\n",
    "\n",
    "cons = [{'type': 'ineq', 'fun': constraint1},\n",
    "        {'type': 'ineq', 'fun': constraint2}]\n",
    "\n",
    "res = minimize(f, [0, 0], constraints=cons)\n",
    "\n",
    "print(\"Points at which fuc. is min:\", res.x)\n",
    "print(\"function min value:\", res.fun)\n"
   ]
  },
  {
   "cell_type": "markdown",
   "metadata": {},
   "source": [
    "# Part B\n",
    "Evaluate the line integral of the function $f(x, y) = x^2 + y^4$ along the circle $ x^2 + y^2 = 3 $ anticlockwise (scalar integral, not vector). You must use scipy for integration but you may use parameterization"
   ]
  },
  {
   "cell_type": "code",
   "execution_count": 9,
   "metadata": {},
   "outputs": [
    {
     "name": "stdout",
     "output_type": "stream",
     "text": [
      "46.15421508651228\n"
     ]
    }
   ],
   "source": [
    "import numpy as np\n",
    "from scipy.integrate import quad\n",
    "\n",
    "def f(x, y):\n",
    "    return x**2 + y**4\n",
    "\n",
    "def x(t):\n",
    "    return np.sqrt(3) * np.cos(t)\n",
    "\n",
    "def y(t):\n",
    "    return np.sqrt(3) * np.sin(t)\n",
    "\n",
    "def integrand(t):\n",
    "    return (x(t))**2 + (y(t))**4 * np.sqrt(3)\n",
    "\n",
    "result, error = quad(integrand, 0, 2*np.pi)\n",
    "print(result)"
   ]
  },
  {
   "cell_type": "markdown",
   "metadata": {},
   "source": [
    "# **Numpy**"
   ]
  },
  {
   "cell_type": "markdown",
   "metadata": {},
   "source": [
    "### Read Lisan_Al_Gaib.pdf for problem description and complete the following functions"
   ]
  },
  {
   "cell_type": "code",
   "execution_count": 10,
   "metadata": {},
   "outputs": [],
   "source": [
    "import time # to time the execution\n",
    "import numpy as np\n",
    "import matplotlib.pyplot as plt"
   ]
  },
  {
   "cell_type": "code",
   "execution_count": 11,
   "metadata": {},
   "outputs": [
    {
     "name": "stdout",
     "output_type": "stream",
     "text": [
      "[[-2.12729941e+00  1.75357153e+00]\n",
      " [-3.40030291e-01 -6.70757901e-03]\n",
      " [-3.21990680e+00 -2.22002740e+00]\n",
      " [-3.70958194e+00  1.33088073e+00]\n",
      " [-9.94424941e-01  5.40362889e-01]\n",
      " [-3.89707753e+00  1.84954926e+00]\n",
      " [ 1.62213204e-01 -1.93830445e+00]\n",
      " [-3.09087516e+00 -2.08297745e+00]\n",
      " [-2.47878879e+00 -3.76217842e-01]\n",
      " [-1.84027491e+00 -1.54385430e+00]\n",
      " [-9.40735526e-01 -2.30253070e+00]\n",
      " [-2.53927676e+00 -1.16819078e+00]\n",
      " [-1.71965008e+00  9.25879807e-01]\n",
      " [-3.00163109e+00 -4.28827808e-01]\n",
      " [-1.03792716e+00 -2.76774794e+00]\n",
      " [-9.62275740e-01 -2.14737938e+00]\n",
      " [-3.67474204e+00  1.74442769e+00]\n",
      " [ 8.28160165e-01  1.04198674e+00]\n",
      " [-2.47693115e+00 -2.51163943e+00]\n",
      " [-5.78834867e-01 -7.99237531e-01]\n",
      " [-3.38980883e+00 -5.24115449e-01]\n",
      " [-3.82805739e+00  1.54660201e+00]\n",
      " [-2.70610009e+00  3.12611422e-01]\n",
      " [-2.44144462e+00 -3.99659894e-01]\n",
      " [-1.26644860e+00 -2.07572772e+00]\n",
      " [ 8.47923139e-01  8.75664117e-01]\n",
      " [ 6.97494708e-01  1.47413675e+00]\n",
      " [-1.01050011e+00  1.60937118e+00]\n",
      " [-3.55753749e+00 -2.02008569e+00]\n",
      " [-3.77386356e+00 -1.37334835e+00]\n",
      " [ 3.94338645e+00  4.35674516e+00]\n",
      " [ 6.14368755e+00  4.78376663e+00]\n",
      " [ 3.40467255e+00  5.71348042e+00]\n",
      " [ 2.70462112e+00  7.01098490e+00]\n",
      " [ 2.37275322e+00  7.93443468e+00]\n",
      " [ 5.86122385e+00  3.99357841e+00]\n",
      " [ 2.02761059e+00  7.07730714e+00]\n",
      " [ 5.53428672e+00  6.64503584e+00]\n",
      " [ 5.85635173e+00  3.37022326e+00]\n",
      " [ 3.79232864e+00  3.57934530e+00]\n",
      " [ 6.31551713e+00  6.11649063e+00]\n",
      " [ 3.65449012e+00  3.31779175e+00]\n",
      " [ 3.55491161e+00  4.62591661e+00]\n",
      " [ 5.64803089e+00  6.18778736e+00]\n",
      " [ 6.43606371e+00  5.36107463e+00]\n",
      " [ 2.59797123e+00  6.56622394e+00]\n",
      " [ 5.80392524e+00  5.80638599e+00]\n",
      " [ 5.85483590e+00  5.46897798e+00]\n",
      " [ 4.61366415e+00  5.13770509e+00]\n",
      " [ 2.12709563e+00  3.53945713e+00]\n",
      " [ 2.15714593e+00  6.18205206e+00]\n",
      " [ 3.57177991e+00  5.54285346e+00]\n",
      " [ 6.53783237e+00  4.24646115e+00]\n",
      " [ 4.05191462e+00  6.77775569e+00]\n",
      " [ 3.14399083e+00  3.38489955e+00]\n",
      " [ 3.44875726e+00  3.80610644e+00]\n",
      " [ 6.64848826e+00  7.04060190e+00]\n",
      " [ 5.16701878e+00  7.35730295e+00]\n",
      " [ 6.01836038e+00  3.93285029e+00]\n",
      " [ 6.46279499e+00  5.69671121e+00]]\n"
     ]
    }
   ],
   "source": [
    "### TODO 1\n",
    "### Load data from data_path\n",
    "### Check the input file spice_locations.txt to understand the Data Format\n",
    "### Return : np array of size Nx2\n",
    "def load_data(file_path):\n",
    "    try:\n",
    "        return np.genfromtxt(file_path, delimiter=\",\")\n",
    "    except Exception as e:\n",
    "        print(f\"Error loading data: {e}\")\n",
    "        return None\n",
    "\n",
    "def main():\n",
    "    file_path = 'spice_locations.txt'\n",
    "    spice_data = load_data(file_path)\n",
    "    if spice_data is not None:\n",
    "        print(spice_data)\n",
    "\n",
    "file_path=pd.read_csv('/Users/manish/Data Visualisation/Markdown/spice_locations.txt')\n",
    "if __name__ == \"__main__\":\n",
    "    main()"
   ]
  },
  {
   "cell_type": "code",
   "execution_count": 12,
   "metadata": {},
   "outputs": [
    {
     "name": "stdout",
     "output_type": "stream",
     "text": [
      "Randomly Initialized Representatives:\n",
      " [[-1.71965008  0.92587981]\n",
      " [ 5.80392524  5.80638599]\n",
      " [-0.96227574 -2.14737938]]\n",
      "Predefined Representatives:\n",
      " [[ 2.   1. ]\n",
      " [-3.  -2. ]\n",
      " [ 3.5  5.5]]\n"
     ]
    }
   ],
   "source": [
    "### TODO 2.1\n",
    "### If init_centers is None, initialize the centers by selecting K data points at random without replacement\n",
    "### Else, use the centers provided in init_centers\n",
    "### Return : np array of size Kx2\n",
    "def retrieve_dataset(file_location):\n",
    "    try:\n",
    "        return np.genfromtxt(file_location, delimiter=\",\")\n",
    "    except FileNotFoundError:\n",
    "        print(f\"Error: The file '{file_location}' was not found.\")\n",
    "    except np.core._exceptions._ArrayMemoryError:\n",
    "        print(f\"Error: Insufficient memory to load the data from '{file_location}'.\")\n",
    "    except Exception as e:\n",
    "        print(f\"An unexpected error occurred: {e}\")\n",
    "\n",
    "def initialize_group_representatives(dataset, num_groups, predefined_representatives=None):\n",
    "    if predefined_representatives is None:\n",
    "        return dataset[np.random.choice(dataset.shape[0], num_groups, replace=False)]\n",
    "    else:\n",
    "        return predefined_representatives\n",
    "\n",
    "# Example Usage\n",
    "file_location = 'spice_locations.txt'\n",
    "num_groups = 3\n",
    "\n",
    "dataset = retrieve_dataset(file_location)\n",
    "if dataset is not None:\n",
    "    group_representatives = initialize_group_representatives(dataset, num_groups)\n",
    "    print(\"Randomly Initialized Representatives:\\n\", group_representatives)\n",
    "\n",
    "    predefined_representatives = np.array([[2.0, 1.0], [-3.0, -2.0], [3.5, 5.5]])\n",
    "    predefined_group_representatives = initialize_group_representatives(dataset, num_groups, predefined_representatives=predefined_representatives)\n",
    "    print(\"Predefined Representatives:\\n\", predefined_group_representatives)"
   ]
  },
  {
   "cell_type": "code",
   "execution_count": 13,
   "metadata": {},
   "outputs": [
    {
     "name": "stdout",
     "output_type": "stream",
     "text": [
      "Initialized Labels:\n",
      " [1 1 1 1 1 1 1 1 1 1 1 1 1 1 1 1 1 1 1 1 1 1 1 1 1 1 1 1 1 1 1 1 1 1 1 1 1\n",
      " 1 1 1 1 1 1 1 1 1 1 1 1 1 1 1 1 1 1 1 1 1 1 1]\n"
     ]
    }
   ],
   "source": [
    "### TODO 2.2\n",
    "### Initialize the labels to all ones to size (N,) where N is the number of data points\n",
    "### Return : np array of size N\n",
    "\n",
    "\n",
    "def initialise_labels(data): \n",
    "    return np.ones(data.shape[0], dtype=int) \n",
    "\n",
    "data_path = '/Users/manish/Data Visualisation/Markdown/spice_locations.txt' \n",
    "data = load_data(data_path) \n",
    "\n",
    "if data is not None: \n",
    "    labels = initialise_labels(data) \n",
    "    print(\"Initialized Labels:\\n\", labels)"
   ]
  },
  {
   "cell_type": "code",
   "execution_count": 14,
   "metadata": {},
   "outputs": [
    {
     "name": "stdout",
     "output_type": "stream",
     "text": [
      "Distance Matrix:\n",
      "[[2.75684014 3.21679461]\n",
      " [0.34006601 1.67602055]\n",
      " [3.91103004 5.30810286]]\n"
     ]
    }
   ],
   "source": [
    "### TODO 3.1 : E step\n",
    "### For Each data point, find the distance to each center\n",
    "### Return : np array of size NxK\n",
    "\n",
    "def calculate_distances(data, centers):\n",
    "    diff = data[:, np.newaxis, :] - centers[np.newaxis, :, :]\n",
    "    dist = np.sqrt(np.sum(diff ** 2, axis=2))\n",
    "    return dist\n",
    "\n",
    "points = np.array([\n",
    "    [-2.1273, 1.7535],\n",
    "    [-0.3400, -0.0067],\n",
    "    [-3.2199, -2.2200],\n",
    "])\n",
    "\n",
    "centers = np.array([\n",
    "    [0.0, 0.0],\n",
    "    [1.0, 1.0],\n",
    "])\n",
    "\n",
    "dist_matrix = calculate_distances(points, centers)\n",
    "print(\"Distance Matrix:\")\n",
    "print(dist_matrix)"
   ]
  },
  {
   "cell_type": "code",
   "execution_count": 15,
   "metadata": {},
   "outputs": [
    {
     "name": "stdout",
     "output_type": "stream",
     "text": [
      "Cluster IDs: [0 0 0]\n"
     ]
    }
   ],
   "source": [
    "### TODO 3.2 : E step\n",
    "### For Each data point, assign the label of the nearest center\n",
    "### Return : np array of size N\n",
    "import numpy as np\n",
    "\n",
    "def update_labels(distances):   \n",
    "    \"\"\"Assign each point to the nearest cluster.\"\"\"\n",
    "    clusters = np.argmin(distances, axis=1)\n",
    "    return clusters\n",
    "\n",
    "if __name__ == \"__main__\":\n",
    "    points = np.array([\n",
    "        [2.74, 3.18],\n",
    "        [0.34, 1.42],\n",
    "        [3.85, 4.86]\n",
    "    ])\n",
    "\n",
    "    cluster_ids = update_labels(points)\n",
    "    print(\"Cluster IDs:\", cluster_ids)"
   ]
  },
  {
   "cell_type": "code",
   "execution_count": 16,
   "metadata": {},
   "outputs": [
    {
     "name": "stdout",
     "output_type": "stream",
     "text": [
      "Updated Centers:\n",
      "[[1.16666667 1.46666667]\n",
      " [7.33333333 9.        ]]\n"
     ]
    }
   ],
   "source": [
    "### TODO 4 : M step\n",
    "### Update the centers to the mean of the data points assigned to it\n",
    "### Return : np array of size Kx2\n",
    "def update_centers(data, labels, K): \n",
    "\n",
    "    dimensionality = data.shape[1] \n",
    "    updated_centers = np.zeros((K, dimensionality)) \n",
    "    for cluster_index in range(K): \n",
    "        points_in_cluster = data[np.where(labels == cluster_index)] \n",
    "        if len(points_in_cluster) > 0: \n",
    "            updated_centers[cluster_index] = np.mean(points_in_cluster, axis=0) \n",
    "        else: \n",
    "            updated_centers[cluster_index] = np.zeros(dimensionality) \n",
    "    return updated_centers\n",
    "\n",
    "if __name__ == \"__main__\":\n",
    "    points = np.array([\n",
    "        [1.0, 2.0],\n",
    "        [1.5, 1.8],\n",
    "        [5.0, 8.0],\n",
    "        [8.0, 8.0],\n",
    "        [1.0, 0.6],\n",
    "        [9.0, 11.0],\n",
    "    ])\n",
    "    targets = np.array([0, 0, 1, 1, 0, 1])\n",
    "    k = 2\n",
    "    new_centers = update_centers(points, targets, k)\n",
    "    print(\"Updated Centers:\")\n",
    "    print(new_centers)\n"
   ]
  },
  {
   "cell_type": "code",
   "execution_count": 17,
   "metadata": {},
   "outputs": [
    {
     "name": "stdout",
     "output_type": "stream",
     "text": [
      "Has changed: False\n",
      "Has changed: True\n"
     ]
    }
   ],
   "source": [
    "### TODO 6 : Check convergence\n",
    "### Check if the labels have changed from the previous iteration\n",
    "### Return : True / False\n",
    "def check_termination(prev, curr):\n",
    "    \"\"\"Check if labels have changed.\"\"\"\n",
    "    return not np.array_equal(prev, curr)\n",
    "\n",
    "# Example 1: Labels have not changed\n",
    "prev_labels = np.array([2, 3, 2, 3, 2])\n",
    "curr_labels = np.array([2, 3, 2, 3, 2])\n",
    "\n",
    "changed = check_termination(prev_labels, curr_labels)\n",
    "print(\"Has changed:\", changed)\n",
    "\n",
    "# Example 2: Labels have changed\n",
    "prev_labels = np.array([2, 3, 2, 3, 2])\n",
    "curr_labels = np.array([2, 3, 3, 3, 2])\n",
    "\n",
    "changed = check_termination(prev_labels, curr_labels)\n",
    "print(\"Has changed:\", changed)"
   ]
  },
  {
   "cell_type": "code",
   "execution_count": 18,
   "metadata": {},
   "outputs": [],
   "source": [
    "### DON'T CHANGE ANYTHING IN THE FOLLOWING FUNCTION\n",
    "def kmeans(data_path:str, K:int, init_centers):\n",
    "    '''\n",
    "    Input :\n",
    "        data (type str): path to the file containing the data\n",
    "        K (type int): number of clusters\n",
    "        init_centers (type numpy.ndarray): initial centers. shape = (K, 2) or None\n",
    "    Output :\n",
    "        centers (type numpy.ndarray): final centers. shape = (K, 2)\n",
    "        labels (type numpy.ndarray): label of each data point. shape = (N,)\n",
    "        time (type float): time taken by the algorithm to converge in seconds\n",
    "    N is the number of data points each of shape (2,)\n",
    "    '''\n",
    "    data = load_data(data_path)    \n",
    "    centers = initialise_centers(data, K, init_centers)\n",
    "    labels = initialise_labels(data)\n",
    "\n",
    "    start_time = time.time() # Time stamp \n",
    "\n",
    "    while True:\n",
    "        distances = calculate_distances(data, centers)\n",
    "        labels_new = update_labels(distances)\n",
    "        centers = update_centers(data, labels_new, K)\n",
    "        if check_termination(labels, labels_new): break\n",
    "        else: labels = labels_new\n",
    " \n",
    "    end_time = time.time() # Time stamp after the algorithm ends\n",
    "    return centers, labels, end_time - start_time "
   ]
  },
  {
   "cell_type": "code",
   "execution_count": 19,
   "metadata": {},
   "outputs": [],
   "source": [
    "### TODO 7\n",
    "import numpy as np\n",
    "import matplotlib.pyplot as plt\n",
    "\n",
    "def visualise(data_path, labels, centers):\n",
    "    data = load_data(data_path)\n",
    "\n",
    "    # Scatter plot of the data points\n",
    "    plt.scatter(data[:, 0], data[:, 1], c=labels, s=50, cmap='viridis')\n",
    "    plt.scatter(centers[:, 0], centers[:, 1], c='black', s=200, alpha=0.5)\n",
    "\n",
    "    # Set the title and axis labels\n",
    "    plt.title('K-means clustering')\n",
    "    plt.xlabel('Longitude')\n",
    "    plt.ylabel('Latitude')\n",
    "\n",
    "    # Save the plot\n",
    "    plt.savefig('kmeans.png')\n",
    "\n",
    "    ## DO NOT CHANGE THE FOLLOWING LINE\n",
    "    return plt\n",
    "\n",
    "\n",
    "def initialise_centers(data, K, init_centers=None):\n",
    "    if init_centers is None:\n",
    "        # Randomly select K data points without replacement\n",
    "        centers = data[np.random.choice(data.shape[0], K, replace=False)]\n",
    "    else:\n",
    "        # Use the provided initial centers\n",
    "        centers = init_centers\n",
    "    return centers\n",
    "\n",
    "\n",
    "def update_centers(data, labels, K):\n",
    "    return np.array([data[labels == k].mean(axis=0) for k in range(K)])"
   ]
  },
  {
   "cell_type": "code",
   "execution_count": 20,
   "metadata": {},
   "outputs": [
    {
     "name": "stdout",
     "output_type": "stream",
     "text": [
      "Time taken for the algorithm to converge: 0.0003650188446044922\n"
     ]
    },
    {
     "data": {
      "text/plain": [
       "<module 'matplotlib.pyplot' from '/Library/Frameworks/Python.framework/Versions/3.12/lib/python3.12/site-packages/matplotlib/pyplot.py'>"
      ]
     },
     "execution_count": 20,
     "metadata": {},
     "output_type": "execute_result"
    },
    {
     "data": {
      "image/png": "[encoded data removed]",
      "text/plain": [
       "<Figure size 640x480 with 1 Axes>"
      ]
     },
     "metadata": {},
     "output_type": "display_data"
    }
   ],
   "source": [
    "### After you have completed the above functions, run the following code to generate the plot\n",
    "data_path = '/Users/manish/Data Visualisation/Markdown/spice_locations.txt'\n",
    "K, init_centers = 2, None\n",
    "centers, labels, time_taken = kmeans(data_path, K, init_centers)\n",
    "print('Time taken for the algorithm to converge:', time_taken)\n",
    "visualise(data_path, labels, centers)"
   ]
  }
 ],
 "metadata": {
  "kernelspec": {
   "display_name": "Python 3",
   "language": "python",
   "name": "python3"
  },
  "language_info": {
   "codemirror_mode": {
    "name": "ipython",
    "version": 3
   },
   "file_extension": ".py",
   "mimetype": "text/x-python",
   "name": "python",
   "nbconvert_exporter": "python",
   "pygments_lexer": "ipython3",
   "version": "3.12.3"
  }
 },
 "nbformat": 4,
 "nbformat_minor": 2
}
