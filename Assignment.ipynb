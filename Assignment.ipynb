{
 "cells": [
  {
   "cell_type": "markdown",
   "metadata": {},
   "source": []
  },
  {
   "cell_type": "markdown",
   "metadata": {},
   "source": [
    "## **Basic Python** \n",
    "\n",
    "### **I have written comments in the code to explain what each part does.**"
   ]
  },
  {
   "cell_type": "markdown",
   "metadata": {},
   "source": [
    "## 1.a \n",
    "Give a function F that takes a single argument n. This function should print a sequence of n strings as described in the examples below:"
   ]
  },
  {
   "cell_type": "code",
   "execution_count": null,
   "metadata": {},
   "outputs": [
    {
     "name": "stdout",
     "output_type": "stream",
     "text": [
      "---------A---------\n",
      "--------BAB--------\n",
      "-------CBABC-------\n",
      "------DCBABCD------\n",
      "-----EDCBABCDE-----\n",
      "----FEDCBABCDEF----\n",
      "---GFEDCBABCDEFG---\n",
      "--HGFEDCBABCDEFGH--\n",
      "-IHGFEDCBABCDEFGHI-\n",
      "JIHGFEDCBABCDEFGHIJ\n",
      "-----A-----\n",
      "----BAB----\n",
      "---CBABC---\n",
      "--DCBABCD--\n",
      "-EDCBABCDE-\n",
      "FEDCBABCDEF\n"
     ]
    }
   ],
   "source": [
    "def F(n):\n",
    "    for i in range(n):\n",
    "        sequence = \"\"\n",
    "        for k in range(2 * i + 1):\n",
    "            sequence += chr(65 + abs(k - i))       #65 is the ASCII value of 'A'\n",
    "        print('-' * (n - i - 1) + sequence + '-' * (n - i - 1))   #This will create given patteren \n",
    "\n",
    "F(10)\n",
    "F(6)"
   ]
  },
  {
   "cell_type": "markdown",
   "metadata": {},
   "source": [
    "## 1.b\n",
    "Make a function F that takes only one argument, a dictionary(dict) d.\n",
    "The keys of d are integers and the values of d are a tuple of type (x (int), y (int)).\n",
    "You must print out the dict in the format \"-key-, -x-, -y-\" with each entry in a new line. Print it for each of the three sorted orders, by key values ascending, by x values descending, by y values ascending."
   ]
  },
  {
   "cell_type": "code",
   "execution_count": null,
   "metadata": {},
   "outputs": [
    {
     "name": "stdout",
     "output_type": "stream",
     "text": [
      "Sorted by key (ascending):\n",
      "1, 1, 2\n",
      "2, -1, 4\n",
      "4, 2, 3\n",
      "5, -4, 3\n",
      "\n",
      "Sorted by x (descending):\n",
      "4, 2, 3\n",
      "1, 1, 2\n",
      "2, -1, 4\n",
      "5, -4, 3\n",
      "\n",
      "Sorted by y (ascending):\n",
      "1, 1, 2\n",
      "5, -4, 3\n",
      "4, 2, 3\n",
      "2, -1, 4\n",
      "\n",
      "Sorted by key (ascending):\n",
      "-8, 4, 2\n",
      "5, 9, -10\n",
      "6, -3, 4\n",
      "7, 2, 1\n",
      "\n",
      "Sorted by x (descending):\n",
      "5, 9, -10\n",
      "-8, 4, 2\n",
      "7, 2, 1\n",
      "6, -3, 4\n",
      "\n",
      "Sorted by y (ascending):\n",
      "5, 9, -10\n",
      "7, 2, 1\n",
      "-8, 4, 2\n",
      "6, -3, 4\n"
     ]
    }
   ],
   "source": [
    "def F(d):\n",
    "    print(\"Sorted by key (ascending):\")  \n",
    "    for key in sorted(d):      #That sorted(d) will sort the keys in acending order\n",
    "\n",
    "        print(f\"{key}, {d[key][0]}, {d[key][1]}\")  #This will first print the key which where in acending order\n",
    "                                                    #Then d[key][0] will print the value of x and after that value pf y for the respective key       \n",
    "\n",
    "    print(\"\\nSorted by x (descending):\")\n",
    "    for key, (x, y) in sorted(d.items(), key=lambda item: item[1][0], reverse=True):\n",
    "        print(f\"{key}, {x}, {y}\")   #So here what happening is that item will fetch the keys and associated tuple with that and \n",
    "                                    # this lamda function will specify that key is x and sorting will done according to x now\n",
    "                                    # reverse=True will sort x in decending order  and item[1][0] says that we are taking the first element of the tuple which is x\n",
    "\n",
    "    print(\"\\nSorted by y (ascending):\")\n",
    "    for key, (x, y) in sorted(d.items(), key=lambda item: item[1][1]):      #Everything is same as above we are just now sorting everything wrt to y\n",
    "        print(f\"{key}, {x}, {y}\")\n",
    "F({1 : (1, 2), 2 : (-1, 4), 5 : (-4, 3), 4 : (2, 3)})\n",
    "print\n",
    "F({-8 : (4, 2), 6 : (-3, 4), 7 : (2, 1), 5 : (9, -10)})"
   ]
  }
 ],
 "metadata": {
  "kernelspec": {
   "display_name": "Python 3",
   "language": "python",
   "name": "python3"
  },
  "language_info": {
   "codemirror_mode": {
    "name": "ipython",
    "version": 3
   },
   "file_extension": ".py",
   "mimetype": "text/x-python",
   "name": "python",
   "nbconvert_exporter": "python",
   "pygments_lexer": "ipython3",
   "version": "3.12.3"
  }
 },
 "nbformat": 4,
 "nbformat_minor": 2
}
